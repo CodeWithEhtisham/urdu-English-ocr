{
  "nbformat": 4,
  "nbformat_minor": 0,
  "metadata": {
    "colab": {
      "provenance": []
    },
    "kernelspec": {
      "name": "python3",
      "display_name": "Python 3"
    },
    "language_info": {
      "name": "python"
    }
  },
  "cells": [
    {
      "cell_type": "code",
      "source": [
        "# !pip install pytesseract"
      ],
      "metadata": {
        "colab": {
          "base_uri": "https://localhost:8080/"
        },
        "id": "tAm9FpxZXwOB",
        "outputId": "972800fc-937f-4d94-edaf-69d979111c80"
      },
      "execution_count": null,
      "outputs": [
        {
          "output_type": "stream",
          "name": "stdout",
          "text": [
            "Collecting pytesseract\n",
            "  Downloading pytesseract-0.3.10-py3-none-any.whl (14 kB)\n",
            "Requirement already satisfied: packaging>=21.3 in /usr/local/lib/python3.10/dist-packages (from pytesseract) (23.1)\n",
            "Requirement already satisfied: Pillow>=8.0.0 in /usr/local/lib/python3.10/dist-packages (from pytesseract) (9.4.0)\n",
            "Installing collected packages: pytesseract\n",
            "Successfully installed pytesseract-0.3.10\n"
          ]
        }
      ]
    },
    {
      "cell_type": "code",
      "source": [
        "# import cv2\n",
        "# import pytesseract\n",
        "# import pandas as pd\n",
        "\n",
        "# # Load the image\n",
        "# image = cv2.imread('/content/test.jpeg')\n",
        "\n",
        "# # Preprocessing (resize, threshold, noise reduction, etc.)\n",
        "# # ...\n",
        "\n",
        "# # Text Detection (using an appropriate model)\n",
        "# # ...\n",
        "\n",
        "# # Text Recognition and CSV file generation\n",
        "# text_data = []\n",
        "# for text_region in detected_text_regions:\n",
        "#     x, y, w, h = text_region  # Replace with actual coordinates from detection\n",
        "#     text_content = pytesseract.image_to_string(image[y:y+h, x:x+w], lang='urd')\n",
        "#     text_data.append({'Text': text_content, 'X': x, 'Y': y, 'Width': w, 'Height': h})\n",
        "\n",
        "# df = pd.DataFrame(text_data)\n",
        "\n",
        "# # Save the CSV file\n",
        "# df.to_csv('urdu_text_data.csv', index=False)\n"
      ],
      "metadata": {
        "colab": {
          "base_uri": "https://localhost:8080/",
          "height": 254
        },
        "id": "AX2QRgJ9XkVS",
        "outputId": "9918a685-5e05-47db-8888-0af0c48cb319"
      },
      "execution_count": null,
      "outputs": [
        {
          "output_type": "error",
          "ename": "NameError",
          "evalue": "ignored",
          "traceback": [
            "\u001b[0;31m---------------------------------------------------------------------------\u001b[0m",
            "\u001b[0;31mNameError\u001b[0m                                 Traceback (most recent call last)",
            "\u001b[0;32m<ipython-input-58-c7abdf4eea98>\u001b[0m in \u001b[0;36m<cell line: 16>\u001b[0;34m()\u001b[0m\n\u001b[1;32m     14\u001b[0m \u001b[0;31m# Text Recognition and CSV file generation\u001b[0m\u001b[0;34m\u001b[0m\u001b[0;34m\u001b[0m\u001b[0m\n\u001b[1;32m     15\u001b[0m \u001b[0mtext_data\u001b[0m \u001b[0;34m=\u001b[0m \u001b[0;34m[\u001b[0m\u001b[0;34m]\u001b[0m\u001b[0;34m\u001b[0m\u001b[0;34m\u001b[0m\u001b[0m\n\u001b[0;32m---> 16\u001b[0;31m \u001b[0;32mfor\u001b[0m \u001b[0mtext_region\u001b[0m \u001b[0;32min\u001b[0m \u001b[0mdetected_text_regions\u001b[0m\u001b[0;34m:\u001b[0m\u001b[0;34m\u001b[0m\u001b[0;34m\u001b[0m\u001b[0m\n\u001b[0m\u001b[1;32m     17\u001b[0m     \u001b[0mx\u001b[0m\u001b[0;34m,\u001b[0m \u001b[0my\u001b[0m\u001b[0;34m,\u001b[0m \u001b[0mw\u001b[0m\u001b[0;34m,\u001b[0m \u001b[0mh\u001b[0m \u001b[0;34m=\u001b[0m \u001b[0mtext_region\u001b[0m  \u001b[0;31m# Replace with actual coordinates from detection\u001b[0m\u001b[0;34m\u001b[0m\u001b[0;34m\u001b[0m\u001b[0m\n\u001b[1;32m     18\u001b[0m     \u001b[0mtext_content\u001b[0m \u001b[0;34m=\u001b[0m \u001b[0mpytesseract\u001b[0m\u001b[0;34m.\u001b[0m\u001b[0mimage_to_string\u001b[0m\u001b[0;34m(\u001b[0m\u001b[0mimage\u001b[0m\u001b[0;34m[\u001b[0m\u001b[0my\u001b[0m\u001b[0;34m:\u001b[0m\u001b[0my\u001b[0m\u001b[0;34m+\u001b[0m\u001b[0mh\u001b[0m\u001b[0;34m,\u001b[0m \u001b[0mx\u001b[0m\u001b[0;34m:\u001b[0m\u001b[0mx\u001b[0m\u001b[0;34m+\u001b[0m\u001b[0mw\u001b[0m\u001b[0;34m]\u001b[0m\u001b[0;34m,\u001b[0m \u001b[0mlang\u001b[0m\u001b[0;34m=\u001b[0m\u001b[0;34m'urd'\u001b[0m\u001b[0;34m)\u001b[0m\u001b[0;34m\u001b[0m\u001b[0;34m\u001b[0m\u001b[0m\n",
            "\u001b[0;31mNameError\u001b[0m: name 'detected_text_regions' is not defined"
          ]
        }
      ]
    },
    {
      "cell_type": "code",
      "source": [],
      "metadata": {
        "id": "hz6Mw0moXkSV"
      },
      "execution_count": null,
      "outputs": []
    },
    {
      "cell_type": "code",
      "source": [],
      "metadata": {
        "id": "MB0lN1i2XkOv"
      },
      "execution_count": null,
      "outputs": []
    },
    {
      "cell_type": "code",
      "source": [],
      "metadata": {
        "id": "bNbyVYirXkM-"
      },
      "execution_count": null,
      "outputs": []
    },
    {
      "cell_type": "code",
      "source": [],
      "metadata": {
        "id": "cUbH5PXeXkGq"
      },
      "execution_count": null,
      "outputs": []
    },
    {
      "cell_type": "code",
      "execution_count": null,
      "metadata": {
        "colab": {
          "base_uri": "https://localhost:8080/"
        },
        "id": "X7vko6SL1Okk",
        "outputId": "7b500f5c-8444-45b9-dde0-e27204663942"
      },
      "outputs": [
        {
          "output_type": "stream",
          "name": "stdout",
          "text": [
            "/content/drive/MyDrive\n"
          ]
        }
      ],
      "source": [
        "# %cd /content/drive/MyDrive/"
      ]
    },
    {
      "cell_type": "code",
      "source": [
        "# !git clone https://github.com/axcelerateai/urdu-handwriting-recognition-using-deep-learning.git"
      ],
      "metadata": {
        "colab": {
          "base_uri": "https://localhost:8080/"
        },
        "id": "3wSGFx3b1hFZ",
        "outputId": "ed2dc1d2-3bd0-4d2d-8c67-e8c8b08fa804"
      },
      "execution_count": null,
      "outputs": [
        {
          "output_type": "stream",
          "name": "stdout",
          "text": [
            "Cloning into 'urdu-handwriting-recognition-using-deep-learning'...\n",
            "remote: Enumerating objects: 221, done.\u001b[K\n",
            "remote: Counting objects: 100% (221/221), done.\u001b[K\n",
            "remote: Compressing objects: 100% (194/194), done.\u001b[K\n",
            "remote: Total 221 (delta 40), reused 190 (delta 20), pack-reused 0\u001b[K\n",
            "Receiving objects: 100% (221/221), 30.23 MiB | 11.47 MiB/s, done.\n",
            "Resolving deltas: 100% (40/40), done.\n",
            "Updating files: 100% (163/163), done.\n",
            "Downloading trained_models/CNN_RNN_CTC/MMA-UD/CNN_RNN_CTC/CNN_RNN_CTC.data-00000-of-00001 (85 MB)\n",
            "Error downloading object: trained_models/CNN_RNN_CTC/MMA-UD/CNN_RNN_CTC/CNN_RNN_CTC.data-00000-of-00001 (bc5abcd): Smudge error: Error downloading trained_models/CNN_RNN_CTC/MMA-UD/CNN_RNN_CTC/CNN_RNN_CTC.data-00000-of-00001 (bc5abcd68ac4d7609b5dedc82c22ae744dbb222a54b91f72760472fda5bb867c): batch response: This repository is over its data quota. Account responsible for LFS bandwidth should purchase more data packs to restore access.\n",
            "\n",
            "Errors logged to /content/drive/MyDrive/urdu-handwriting-recognition-using-deep-learning/.git/lfs/logs/20230916T115303.43068698.log\n",
            "Use `git lfs logs last` to view the log.\n",
            "error: external filter 'git-lfs filter-process' failed\n",
            "fatal: trained_models/CNN_RNN_CTC/MMA-UD/CNN_RNN_CTC/CNN_RNN_CTC.data-00000-of-00001: smudge filter lfs failed\n",
            "warning: Clone succeeded, but checkout failed.\n",
            "You can inspect what was checked out with 'git status'\n",
            "and retry with 'git restore --source=HEAD :/'\n",
            "\n"
          ]
        }
      ]
    },
    {
      "cell_type": "code",
      "source": [
        "!ls"
      ],
      "metadata": {
        "colab": {
          "base_uri": "https://localhost:8080/"
        },
        "id": "HF4bGMT013pI",
        "outputId": "6b095216-1117-4284-9ac4-23dd508d319d"
      },
      "execution_count": 2,
      "outputs": [
        {
          "output_type": "stream",
          "name": "stdout",
          "text": [
            "configs   dump\t launch_gui.py\t__pycache__\t  run_model.py\t  zip_files.sh\n",
            "data\t  fonts  LICENSE.md\tREADME.md\t  trained_models\n",
            "debugger  gui\t models\t\trequirements.txt  utils\n"
          ]
        }
      ]
    },
    {
      "cell_type": "code",
      "source": [
        "# !pip install -r requirements.txt"
      ],
      "metadata": {
        "colab": {
          "base_uri": "https://localhost:8080/"
        },
        "id": "g4RDVp6916k-",
        "outputId": "78a47336-dbc8-4b64-efad-fa493ff5ae90"
      },
      "execution_count": 3,
      "outputs": [
        {
          "output_type": "stream",
          "name": "stdout",
          "text": [
            "Collecting arabic-reshaper==2.0.14 (from -r requirements.txt (line 1))\n",
            "  Downloading arabic_reshaper-2.0.14-py3-none-any.whl (14 kB)\n",
            "Collecting matplotlib==2.0.0 (from -r requirements.txt (line 2))\n",
            "  Downloading matplotlib-2.0.0.tar.gz (53.2 MB)\n",
            "\u001b[2K     \u001b[90m━━━━━━━━━━━━━━━━━━━━━━━━━━━━━━━━━━━━━━━━\u001b[0m \u001b[32m53.2/53.2 MB\u001b[0m \u001b[31m12.4 MB/s\u001b[0m eta \u001b[36m0:00:00\u001b[0m\n",
            "\u001b[?25h  Preparing metadata (setup.py) ... \u001b[?25l\u001b[?25hdone\n",
            "Collecting nltk==3.4 (from -r requirements.txt (line 3))\n",
            "  Downloading nltk-3.4.zip (1.4 MB)\n",
            "\u001b[2K     \u001b[90m━━━━━━━━━━━━━━━━━━━━━━━━━━━━━━━━━━━━━━━━\u001b[0m \u001b[32m1.4/1.4 MB\u001b[0m \u001b[31m59.8 MB/s\u001b[0m eta \u001b[36m0:00:00\u001b[0m\n",
            "\u001b[?25h  Preparing metadata (setup.py) ... \u001b[?25l\u001b[?25hdone\n",
            "Collecting numpy==1.14.3 (from -r requirements.txt (line 4))\n",
            "  Downloading numpy-1.14.3.zip (4.9 MB)\n",
            "\u001b[2K     \u001b[90m━━━━━━━━━━━━━━━━━━━━━━━━━━━━━━━━━━━━━━━━\u001b[0m \u001b[32m4.9/4.9 MB\u001b[0m \u001b[31m19.2 MB/s\u001b[0m eta \u001b[36m0:00:00\u001b[0m\n",
            "\u001b[?25h  Preparing metadata (setup.py) ... \u001b[?25l\u001b[?25hdone\n",
            "\u001b[31mERROR: Could not find a version that satisfies the requirement opencv-python==3.3.1.11 (from versions: 3.4.0.14, 3.4.10.37, 3.4.11.39, 3.4.11.41, 3.4.11.43, 3.4.11.45, 3.4.13.47, 3.4.15.55, 3.4.16.57, 3.4.16.59, 3.4.17.61, 3.4.17.63, 3.4.18.65, 4.3.0.38, 4.4.0.40, 4.4.0.42, 4.4.0.44, 4.4.0.46, 4.5.1.48, 4.5.3.56, 4.5.4.58, 4.5.4.60, 4.5.5.62, 4.5.5.64, 4.6.0.66, 4.7.0.68, 4.7.0.72, 4.8.0.74, 4.8.0.76)\u001b[0m\u001b[31m\n",
            "\u001b[0m\u001b[31mERROR: No matching distribution found for opencv-python==3.3.1.11\u001b[0m\u001b[31m\n",
            "\u001b[0m"
          ]
        }
      ]
    },
    {
      "cell_type": "code",
      "source": [
        "# !pip install PySide2"
      ],
      "metadata": {
        "colab": {
          "base_uri": "https://localhost:8080/"
        },
        "id": "c-BxN4JZ2qPc",
        "outputId": "b2f1b684-a7c9-4513-a6c9-45544c66ec2f"
      },
      "execution_count": 4,
      "outputs": [
        {
          "output_type": "stream",
          "name": "stdout",
          "text": [
            "Collecting PySide2\n",
            "  Downloading PySide2-5.15.2.1-5.15.2-cp35.cp36.cp37.cp38.cp39.cp310-abi3-manylinux1_x86_64.whl (164.3 MB)\n",
            "\u001b[2K     \u001b[90m━━━━━━━━━━━━━━━━━━━━━━━━━━━━━━━━━━━━━━━\u001b[0m \u001b[32m164.3/164.3 MB\u001b[0m \u001b[31m2.0 MB/s\u001b[0m eta \u001b[36m0:00:00\u001b[0m\n",
            "\u001b[?25hCollecting shiboken2==5.15.2.1 (from PySide2)\n",
            "  Downloading shiboken2-5.15.2.1-5.15.2-cp35.cp36.cp37.cp38.cp39.cp310-abi3-manylinux1_x86_64.whl (975 kB)\n",
            "\u001b[2K     \u001b[90m━━━━━━━━━━━━━━━━━━━━━━━━━━━━━━━━━━━━━━\u001b[0m \u001b[32m975.4/975.4 kB\u001b[0m \u001b[31m19.6 MB/s\u001b[0m eta \u001b[36m0:00:00\u001b[0m\n",
            "\u001b[?25hInstalling collected packages: shiboken2, PySide2\n",
            "Successfully installed PySide2-5.15.2.1 shiboken2-5.15.2.1\n"
          ]
        }
      ]
    },
    {
      "cell_type": "code",
      "source": [
        "# !pip install pyinsane2"
      ],
      "metadata": {
        "colab": {
          "base_uri": "https://localhost:8080/"
        },
        "id": "z70y6rbU244M",
        "outputId": "fd1b5f39-4c3b-45b5-b5fd-27629c4c7f07"
      },
      "execution_count": 5,
      "outputs": [
        {
          "output_type": "stream",
          "name": "stdout",
          "text": [
            "Collecting pyinsane2\n",
            "  Downloading pyinsane2-2.0.13.tar.gz (57 kB)\n",
            "\u001b[2K     \u001b[90m━━━━━━━━━━━━━━━━━━━━━━━━━━━━━━━━━━━━━━━━\u001b[0m \u001b[32m57.2/57.2 kB\u001b[0m \u001b[31m1.3 MB/s\u001b[0m eta \u001b[36m0:00:00\u001b[0m\n",
            "\u001b[?25h  Preparing metadata (setup.py) ... \u001b[?25l\u001b[?25hdone\n",
            "Requirement already satisfied: Pillow in /usr/local/lib/python3.10/dist-packages (from pyinsane2) (9.4.0)\n",
            "Building wheels for collected packages: pyinsane2\n",
            "  Building wheel for pyinsane2 (setup.py) ... \u001b[?25l\u001b[?25hdone\n",
            "  Created wheel for pyinsane2: filename=pyinsane2-2.0.13-py3-none-any.whl size=36730 sha256=7d76db4856bdd98d480b8205d27e6050ce5746625a76a018d852bf3a5de0505b\n",
            "  Stored in directory: /root/.cache/pip/wheels/a3/d0/e9/4cb68f9c7cdac04afe0fcf47831523d76514d479d7ee36be7e\n",
            "Successfully built pyinsane2\n",
            "Installing collected packages: pyinsane2\n",
            "Successfully installed pyinsane2-2.0.13\n"
          ]
        }
      ]
    },
    {
      "cell_type": "code",
      "source": [
        "# !pip install python-docx"
      ],
      "metadata": {
        "colab": {
          "base_uri": "https://localhost:8080/"
        },
        "id": "L5DVY4fD2_Kv",
        "outputId": "41b5f49a-1c6f-4083-c01e-9107d48f41bd"
      },
      "execution_count": 6,
      "outputs": [
        {
          "output_type": "stream",
          "name": "stdout",
          "text": [
            "Collecting python-docx\n",
            "  Downloading python-docx-0.8.11.tar.gz (5.6 MB)\n",
            "\u001b[2K     \u001b[90m━━━━━━━━━━━━━━━━━━━━━━━━━━━━━━━━━━━━━━━━\u001b[0m \u001b[32m5.6/5.6 MB\u001b[0m \u001b[31m32.4 MB/s\u001b[0m eta \u001b[36m0:00:00\u001b[0m\n",
            "\u001b[?25h  Preparing metadata (setup.py) ... \u001b[?25l\u001b[?25hdone\n",
            "Requirement already satisfied: lxml>=2.3.2 in /usr/local/lib/python3.10/dist-packages (from python-docx) (4.9.3)\n",
            "Building wheels for collected packages: python-docx\n",
            "  Building wheel for python-docx (setup.py) ... \u001b[?25l\u001b[?25hdone\n",
            "  Created wheel for python-docx: filename=python_docx-0.8.11-py3-none-any.whl size=184487 sha256=6ea5ad3794fab44e25739f689ff03c049368ed72ab2974e3736e545585a36d16\n",
            "  Stored in directory: /root/.cache/pip/wheels/80/27/06/837436d4c3bd989b957a91679966f207bfd71d358d63a8194d\n",
            "Successfully built python-docx\n",
            "Installing collected packages: python-docx\n",
            "Successfully installed python-docx-0.8.11\n"
          ]
        }
      ]
    },
    {
      "cell_type": "code",
      "source": [
        "# !pip install pdf2image"
      ],
      "metadata": {
        "colab": {
          "base_uri": "https://localhost:8080/"
        },
        "id": "a1h95snu3Fy_",
        "outputId": "49dd93d9-ff0d-4202-f5e3-15318bc1ee2f"
      },
      "execution_count": 7,
      "outputs": [
        {
          "output_type": "stream",
          "name": "stdout",
          "text": [
            "Collecting pdf2image\n",
            "  Downloading pdf2image-1.16.3-py3-none-any.whl (11 kB)\n",
            "Requirement already satisfied: pillow in /usr/local/lib/python3.10/dist-packages (from pdf2image) (9.4.0)\n",
            "Installing collected packages: pdf2image\n",
            "Successfully installed pdf2image-1.16.3\n"
          ]
        }
      ]
    },
    {
      "cell_type": "code",
      "source": [
        "# !python launch_gui.py\n"
      ],
      "metadata": {
        "colab": {
          "base_uri": "https://localhost:8080/"
        },
        "id": "Re4rx2-E2lJu",
        "outputId": "bf3228d0-a906-43a2-e2af-c364e7d9a50e"
      },
      "execution_count": 8,
      "outputs": [
        {
          "output_type": "stream",
          "name": "stdout",
          "text": [
            "2023-09-18 14:39:50.443823: I tensorflow/core/platform/cpu_feature_guard.cc:182] This TensorFlow binary is optimized to use available CPU instructions in performance-critical operations.\n",
            "To enable the following instructions: AVX2 FMA, in other operations, rebuild TensorFlow with the appropriate compiler flags.\n",
            "2023-09-18 14:39:53.031134: W tensorflow/compiler/tf2tensorrt/utils/py_utils.cc:38] TF-TRT Warning: Could not find TensorRT\n",
            "Traceback (most recent call last):\n",
            "  File \"/content/drive/MyDrive/urdu-handwriting-recognition-using-deep-learning/launch_gui.py\", line 1, in <module>\n",
            "    from gui.run_gui import main\n",
            "  File \"/content/drive/MyDrive/urdu-handwriting-recognition-using-deep-learning/gui/run_gui.py\", line 23, in <module>\n",
            "    from run_model import create_and_run_model\n",
            "  File \"/usr/local/lib/python3.10/dist-packages/shiboken2/files.dir/shibokensupport/__feature__.py\", line 142, in _import\n",
            "    return original_import(name, *args, **kwargs)\n",
            "  File \"/content/drive/MyDrive/urdu-handwriting-recognition-using-deep-learning/run_model.py\", line 10, in <module>\n",
            "    from models.cnn_rnn_ctc import CNN_RNN_CTC\n",
            "  File \"/usr/local/lib/python3.10/dist-packages/shiboken2/files.dir/shibokensupport/__feature__.py\", line 142, in _import\n",
            "    return original_import(name, *args, **kwargs)\n",
            "  File \"/content/drive/MyDrive/urdu-handwriting-recognition-using-deep-learning/models/cnn_rnn_ctc.py\", line 5, in <module>\n",
            "    from models.model_class import Model\n",
            "  File \"/usr/local/lib/python3.10/dist-packages/shiboken2/files.dir/shibokensupport/__feature__.py\", line 142, in _import\n",
            "    return original_import(name, *args, **kwargs)\n",
            "  File \"/content/drive/MyDrive/urdu-handwriting-recognition-using-deep-learning/models/model_class.py\", line 28, in <module>\n",
            "    tf.logging.set_verbosity(tf.logging.ERROR)\n",
            "AttributeError: module 'tensorflow' has no attribute 'logging'. Did you mean: '_logging'?\n"
          ]
        }
      ]
    },
    {
      "cell_type": "code",
      "source": [
        "# !pip install utils"
      ],
      "metadata": {
        "colab": {
          "base_uri": "https://localhost:8080/"
        },
        "id": "gHJ4qL4Y_yB7",
        "outputId": "99d8902f-51c8-423f-da76-8301afe48d90"
      },
      "execution_count": 9,
      "outputs": [
        {
          "output_type": "stream",
          "name": "stdout",
          "text": [
            "Collecting utils\n",
            "  Downloading utils-1.0.1-py2.py3-none-any.whl (21 kB)\n",
            "Installing collected packages: utils\n",
            "Successfully installed utils-1.0.1\n"
          ]
        }
      ]
    },
    {
      "cell_type": "code",
      "source": [
        "import tensorflow as tf\n",
        "import cv2 as cv\n",
        "import utils"
      ],
      "metadata": {
        "id": "iLdd6Me-4L46"
      },
      "execution_count": 10,
      "outputs": []
    },
    {
      "cell_type": "code",
      "source": [],
      "metadata": {
        "id": "hdlvV-UWGLF5"
      },
      "execution_count": null,
      "outputs": []
    },
    {
      "cell_type": "code",
      "source": [
        "%cd /content/drive/MyDrive"
      ],
      "metadata": {
        "colab": {
          "base_uri": "https://localhost:8080/"
        },
        "id": "yc47Ct4r7v00",
        "outputId": "efb6fc9b-d29c-41f0-9a6c-1a9a51f9006a"
      },
      "execution_count": 12,
      "outputs": [
        {
          "output_type": "stream",
          "name": "stdout",
          "text": [
            "/content/drive/MyDrive\n"
          ]
        }
      ]
    },
    {
      "cell_type": "code",
      "source": [
        "!git clone https://github.com/HassamChundrigar/Urdu-Ocr.git"
      ],
      "metadata": {
        "colab": {
          "base_uri": "https://localhost:8080/"
        },
        "id": "RufoPz-l7vtQ",
        "outputId": "32c7b617-c30f-45d0-cfd4-572b30811362"
      },
      "execution_count": null,
      "outputs": [
        {
          "output_type": "stream",
          "name": "stdout",
          "text": [
            "Cloning into 'Urdu-Ocr'...\n",
            "remote: Enumerating objects: 36, done.\u001b[K\n",
            "remote: Counting objects: 100% (13/13), done.\u001b[K\n",
            "remote: Compressing objects: 100% (10/10), done.\u001b[K\n",
            "remote: Total 36 (delta 3), reused 6 (delta 2), pack-reused 23\u001b[K\n",
            "Receiving objects: 100% (36/36), 83.54 MiB | 13.06 MiB/s, done.\n",
            "Resolving deltas: 100% (7/7), done.\n",
            "Updating files: 100% (10/10), done.\n"
          ]
        }
      ]
    },
    {
      "cell_type": "code",
      "source": [
        "%cd /content/drive/MyDrive/Urdu-Ocr/\n",
        "!ls"
      ],
      "metadata": {
        "colab": {
          "base_uri": "https://localhost:8080/"
        },
        "id": "_WfIHnK378Dm",
        "outputId": "cc1e499d-2c1e-4a11-967d-5d0d81be0264"
      },
      "execution_count": 11,
      "outputs": [
        {
          "output_type": "stream",
          "name": "stdout",
          "text": [
            "/content/drive/MyDrive/Urdu-Ocr\n",
            "chars.txt  README.md\t     test.jpg\t\t    utils.py\n",
            "model_pb   requirements.txt  Urdu-Ocr-simple.ipynb\n"
          ]
        }
      ]
    },
    {
      "cell_type": "code",
      "source": [
        "!pip install -r requirements.txt"
      ],
      "metadata": {
        "colab": {
          "base_uri": "https://localhost:8080/"
        },
        "id": "mHS76_2B8LiJ",
        "outputId": "828a1e07-4ece-4c87-f0ae-7359dac137b2"
      },
      "execution_count": 13,
      "outputs": [
        {
          "output_type": "stream",
          "name": "stdout",
          "text": [
            "\u001b[31mERROR: Could not open requirements file: [Errno 2] No such file or directory: 'requirements.txt'\u001b[0m\u001b[31m\n",
            "\u001b[0m"
          ]
        }
      ]
    },
    {
      "cell_type": "code",
      "source": [
        "!pip install opencv-python"
      ],
      "metadata": {
        "colab": {
          "base_uri": "https://localhost:8080/"
        },
        "id": "E6mTdetj8a5P",
        "outputId": "6a0c53c0-dada-43bc-9597-50217129670f"
      },
      "execution_count": 14,
      "outputs": [
        {
          "output_type": "stream",
          "name": "stdout",
          "text": [
            "Requirement already satisfied: opencv-python in /usr/local/lib/python3.10/dist-packages (4.8.0.76)\n",
            "Requirement already satisfied: numpy>=1.21.2 in /usr/local/lib/python3.10/dist-packages (from opencv-python) (1.23.5)\n"
          ]
        }
      ]
    },
    {
      "cell_type": "code",
      "source": [
        "!pip install tensorflow==1.15"
      ],
      "metadata": {
        "colab": {
          "base_uri": "https://localhost:8080/"
        },
        "id": "kSBVKVr68ntn",
        "outputId": "8d576d36-8533-4b0e-e541-85109ccf5368"
      },
      "execution_count": 15,
      "outputs": [
        {
          "output_type": "stream",
          "name": "stdout",
          "text": [
            "\u001b[31mERROR: Could not find a version that satisfies the requirement tensorflow==1.15 (from versions: 2.8.0rc0, 2.8.0rc1, 2.8.0, 2.8.1, 2.8.2, 2.8.3, 2.8.4, 2.9.0rc0, 2.9.0rc1, 2.9.0rc2, 2.9.0, 2.9.1, 2.9.2, 2.9.3, 2.10.0rc0, 2.10.0rc1, 2.10.0rc2, 2.10.0rc3, 2.10.0, 2.10.1, 2.11.0rc0, 2.11.0rc1, 2.11.0rc2, 2.11.0, 2.11.1, 2.12.0rc0, 2.12.0rc1, 2.12.0, 2.12.1, 2.13.0rc0, 2.13.0rc1, 2.13.0rc2, 2.13.0, 2.14.0rc0, 2.14.0rc1)\u001b[0m\u001b[31m\n",
            "\u001b[0m\u001b[31mERROR: No matching distribution found for tensorflow==1.15\u001b[0m\u001b[31m\n",
            "\u001b[0m"
          ]
        }
      ]
    },
    {
      "cell_type": "code",
      "source": [
        "path = \"/content/test2.jpeg\"\n",
        "image = cv.imread(path)"
      ],
      "metadata": {
        "id": "ZgdvamCq859t"
      },
      "execution_count": 186,
      "outputs": []
    },
    {
      "cell_type": "code",
      "source": [
        "image= cv.resize(image, (793,62),cv.INTER_AREA)"
      ],
      "metadata": {
        "id": "kFnPudaSywnz"
      },
      "execution_count": 165,
      "outputs": []
    },
    {
      "cell_type": "code",
      "source": [
        "image.shape"
      ],
      "metadata": {
        "colab": {
          "base_uri": "https://localhost:8080/"
        },
        "id": "50_04e-jzQ3T",
        "outputId": "c724f5bf-2257-4f3f-edb5-28435149a617"
      },
      "execution_count": 146,
      "outputs": [
        {
          "output_type": "execute_result",
          "data": {
            "text/plain": [
              "(61, 387, 3)"
            ]
          },
          "metadata": {},
          "execution_count": 146
        }
      ]
    },
    {
      "cell_type": "code",
      "source": [
        "plt.imshow(image)"
      ],
      "metadata": {
        "colab": {
          "base_uri": "https://localhost:8080/",
          "height": 208
        },
        "id": "vZ2kbmYG05nk",
        "outputId": "9e6beb33-7906-41c4-fe0a-fc929b85a6be"
      },
      "execution_count": 187,
      "outputs": [
        {
          "output_type": "execute_result",
          "data": {
            "text/plain": [
              "<matplotlib.image.AxesImage at 0x7f81c7d79ab0>"
            ]
          },
          "metadata": {},
          "execution_count": 187
        },
        {
          "output_type": "display_data",
          "data": {
            "text/plain": [
              "<Figure size 640x480 with 1 Axes>"
            ],
            "image/png": "[encoded data removed]"
          },
          "metadata": {}
        }
      ]
    },
    {
      "cell_type": "code",
      "source": [
        "sess = tf.compat.v1.Session()\n",
        "tf.compat.v1.saved_model.load\n",
        "model = tf.compat.v1.saved_model.load(sess ,tags = ['serve'], export_dir = '/content/drive/MyDrive/Urdu-Ocr/model_pb/')"
      ],
      "metadata": {
        "id": "Zhm19JYQ9MLA"
      },
      "execution_count": 82,
      "outputs": []
    },
    {
      "cell_type": "code",
      "source": [
        "import cv2 as cv\n",
        "import tensorflow as tf\n",
        "import numpy as np\n",
        "\n",
        "# Load Character set\n",
        "chars=''\n",
        "with open('/content/drive/MyDrive/Urdu-Ocr/chars.txt',encoding='utf-8') as f:\n",
        "    chars=f.read()\n",
        "\n",
        "#Dense to corresponding text removing Unidentified Character\n",
        "def dense_to_text(dense):\n",
        "    text=''\n",
        "    for num in dense:\n",
        "        if (num < len(chars)+1 and num > 0):\n",
        "            text+=chars[num-1]\n",
        "    return text"
      ],
      "metadata": {
        "id": "gdfI3Z9yvzU1"
      },
      "execution_count": 83,
      "outputs": []
    },
    {
      "cell_type": "code",
      "source": [
        "resized_image = tf.compat.v1.image.resize_image_with_pad(image, 64, 1024).numpy()\n",
        "\n",
        "### preprcessing\n",
        "kernel = np.ones((2, 2), np.uint8)\n",
        "opening = cv.morphologyEx(resized_image, cv.MORPH_OPEN, kernel)\n",
        "closing = cv.morphologyEx(opening, cv.MORPH_CLOSE, kernel)\n",
        "dilation = cv.dilate(closing, kernel, iterations=2)\n",
        "kernel = np.ones((3, 3), np.uint8)\n",
        "erosion = cv.erode(dilation, kernel, iterations=1)\n",
        "# gradient = cv2.morphologyEx(img, cv2.MORPH_GRADIENT, kernel)\n",
        "#\n",
        "# img_3 = gradient.copy()\n",
        "img_gray = cv.cvtColor(resized_image, cv.COLOR_RGB2GRAY).reshape(64,1024,1)\n",
        "\n",
        "output = sess.run('Dense-Decoded/SparseToDense:0',\n",
        "         feed_dict = {\n",
        "             'Deep-CNN/Placeholder:0':img_gray\n",
        "         })\n",
        "output_text = dense_to_text(output[0])"
      ],
      "metadata": {
        "id": "KSfnlbHt9-ID"
      },
      "execution_count": 188,
      "outputs": []
    },
    {
      "cell_type": "code",
      "source": [
        "import matplotlib.pyplot as plt\n",
        "plt.figure(figsize = (10,10))\n",
        "plt.imshow(img_gray)"
      ],
      "metadata": {
        "colab": {
          "base_uri": "https://localhost:8080/",
          "height": 131
        },
        "id": "XKGWKbOXxkoU",
        "outputId": "344772e1-c54e-4a26-e751-4b1227412060"
      },
      "execution_count": 189,
      "outputs": [
        {
          "output_type": "execute_result",
          "data": {
            "text/plain": [
              "<matplotlib.image.AxesImage at 0x7f81c7dfc4f0>"
            ]
          },
          "metadata": {},
          "execution_count": 189
        },
        {
          "output_type": "display_data",
          "data": {
            "text/plain": [
              "<Figure size 1000x1000 with 1 Axes>"
            ],
            "image/png": "[encoded data removed]"
          },
          "metadata": {}
        }
      ]
    },
    {
      "cell_type": "code",
      "source": [
        "(np.array(erosion)).shape\n"
      ],
      "metadata": {
        "id": "YZxFDpMbxDzN"
      },
      "execution_count": null,
      "outputs": []
    },
    {
      "cell_type": "code",
      "source": [
        "output_text"
      ],
      "metadata": {
        "colab": {
          "base_uri": "https://localhost:8080/",
          "height": 36
        },
        "id": "JcEGzRZzv-Kq",
        "outputId": "7371652f-7578-40b4-af9a-9ec6c836d3d3"
      },
      "execution_count": 190,
      "outputs": [
        {
          "output_type": "execute_result",
          "data": {
            "text/plain": [
              "'شارابی بلی  '"
            ],
            "application/vnd.google.colaboratory.intrinsic+json": {
              "type": "string"
            }
          },
          "metadata": {},
          "execution_count": 190
        }
      ]
    },
    {
      "cell_type": "code",
      "source": [
        "from matplotlib import pyplot as plt"
      ],
      "metadata": {
        "id": "5GXJZiC4A4FP"
      },
      "execution_count": null,
      "outputs": []
    },
    {
      "cell_type": "code",
      "source": [
        "plt.imshow(output)"
      ],
      "metadata": {
        "colab": {
          "base_uri": "https://localhost:8080/",
          "height": 326
        },
        "id": "H59E4eijAXt7",
        "outputId": "e586ead1-58e6-40d7-ea68-b466e3cd54f6"
      },
      "execution_count": null,
      "outputs": [
        {
          "output_type": "execute_result",
          "data": {
            "text/plain": [
              "<matplotlib.image.AxesImage at 0x7b9f1e14aef0>"
            ]
          },
          "metadata": {},
          "execution_count": 54
        },
        {
          "output_type": "display_data",
          "data": {
            "text/plain": [
              "<Figure size 640x480 with 1 Axes>"
            ],
            "image/png": "[encoded data removed]"
          },
          "metadata": {}
        }
      ]
    },
    {
      "cell_type": "code",
      "source": [
        "%cd /content/drive/MyDrive"
      ],
      "metadata": {
        "id": "JULn2qzJ74tR"
      },
      "execution_count": null,
      "outputs": []
    }
  ]
}